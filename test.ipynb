{
 "cells": [
  {
   "cell_type": "code",
   "execution_count": 1,
   "metadata": {},
   "outputs": [],
   "source": [
    "%load_ext autoreload\n",
    "%autoreload 2\n",
    "from screener import screener\n",
    "import yfinance as yf"
   ]
  },
  {
   "cell_type": "code",
   "execution_count": 2,
   "metadata": {},
   "outputs": [],
   "source": [
    "param_dic = {\n",
    "    \"vol_window\": 20,\n",
    "    \"RSI_window\": 21,\n",
    "    \"RSI_ave\": 9,\n",
    "    \"RSI_hi\": 80,\n",
    "    \"RSI_lo\": 20,\n",
    "    \"Stochastic\": (14, 3, 6),\n",
    "    \"Stoch_hi\": 80,\n",
    "    \"Stoch_lo\": 20,\n",
    "    \"ADX_window\": 14\n",
    "}\n",
    "\n",
    "path = \"./ticker.xlsx\""
   ]
  },
  {
   "cell_type": "code",
   "execution_count": 10,
   "metadata": {},
   "outputs": [
    {
     "name": "stdout",
     "output_type": "stream",
     "text": [
      "1/500: PRGO\n",
      "2/500: TPR\n",
      "3/500: DVN\n",
      "4/500: CE\n",
      "5/500: MRO\n"
     ]
    }
   ],
   "source": [
    "df = screener(path, param_dic, limit=20)"
   ]
  },
  {
   "cell_type": "code",
   "execution_count": null,
   "metadata": {},
   "outputs": [],
   "source": []
  }
 ],
 "metadata": {
  "kernelspec": {
   "display_name": "Python 3",
   "language": "python",
   "name": "python3"
  },
  "language_info": {
   "codemirror_mode": {
    "name": "ipython",
    "version": 3
   },
   "file_extension": ".py",
   "mimetype": "text/x-python",
   "name": "python",
   "nbconvert_exporter": "python",
   "pygments_lexer": "ipython3",
   "version": "3.8.3"
  }
 },
 "nbformat": 4,
 "nbformat_minor": 4
}
